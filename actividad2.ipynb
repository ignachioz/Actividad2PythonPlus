{
  "nbformat": 4,
  "nbformat_minor": 0,
  "metadata": {
    "colab": {
      "name": "Te damos la bienvenida a Colaboratory",
      "provenance": [],
      "collapsed_sections": []
    },
    "kernelspec": {
      "display_name": "Python 3",
      "name": "python3"
    }
  },
  "cells": [
    {
      "cell_type": "code",
      "metadata": {
        "colab": {
          "base_uri": "https://localhost:8080/",
          "height": 265
        },
        "id": "8PbtLzfNS-Ve",
        "outputId": "ca0ad20c-462f-4124-a2bd-e41f24b08e35"
      },
      "source": [
        "import matplotlib as plt\n",
        "import pandas as pd\n",
        "\n",
        "\n",
        "'''Esta parte hace referencia al enunciado 5'''\n",
        "\n",
        "def enunciado_cinco():\n",
        "  '''\n",
        "  Esta funcion lee el archivo de las jugadas, las filas NaN las remplaza con vacio y de los inicios de partida los\n",
        "  agrupo por el nick con la cantidad de inicio de partida de cada nick.\n",
        "  '''\n",
        "  jugadas=pd.read_csv('/content/registro_jugadas.csv')\n",
        "  jugadas.fillna('vacio',inplace=True)\n",
        "  jugaron_usuarios=jugadas[jugadas['Nombre_evento']=='inicio_partida']\n",
        "  jugaron_usuarios=jugaron_usuarios.groupby(['Nick'])['Nick'].count()\n",
        "\n",
        "  jugaron_usuarios.plot(kind='barh')\n",
        "\n",
        "enunciado_cinco()"
      ],
      "execution_count": 3,
      "outputs": [
        {
          "output_type": "display_data",
          "data": {
            "image/png": "[encoded data removed]",
            "text/plain": [
              "<Figure size 432x288 with 1 Axes>"
            ]
          },
          "metadata": {
            "tags": [],
            "needs_background": "light"
          }
        }
      ]
    }
  ]
}